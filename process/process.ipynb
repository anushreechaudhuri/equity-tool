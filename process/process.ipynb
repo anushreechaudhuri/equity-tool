{
 "cells": [
  {
   "cell_type": "markdown",
   "metadata": {},
   "source": [
    "All the data transformations that need to happen, from raw to final:\n",
    "* NHPD Raw -> Change any null values for fields to \"Not Available\"\n",
    "* NHPD Carto -> Save as a CSV to reduce storage on Carto server\n",
    "* NHPD for Report -> Clean the lat lon and save as spatial file \n",
    "* DACs -> Join DAC Percentiles with Mapping Display Data. Make sure data types are correct (floats, not strings). Join QCT Data.\n",
    "  * Carto_DACs -> have as few fields as possible, short names\n",
    "  * Report_DACs -> have all the fields, named well\n",
    "* Tribes and Territories -> Get from GIS SQLite. Naming format should be same as Counties and States."
   ]
  },
  {
   "cell_type": "code",
   "execution_count": 109,
   "metadata": {},
   "outputs": [],
   "source": [
    "import pandas as pd\n",
    "import geopandas as gpd\n",
    "import numpy as np\n",
    "import sqlite3 as sql\n",
    "import subprocess\n",
    "import sys\n",
    "import os\n",
    "from os import mkdir\n",
    "from os.path import exists, sep"
   ]
  },
  {
   "cell_type": "code",
   "execution_count": 146,
   "metadata": {},
   "outputs": [],
   "source": [
    "# Enter directory paths here\n",
    "WD = \"/Users/anushreechaudhuri/pCloud Drive/MIT/MIT Work/DC DOE/app_files/equity-tool/data\"\n",
    "RAW = \"/Users/anushreechaudhuri/pCloud Drive/MIT/MIT Work/DC DOE/app_files/equity-tool/data/raw\"\n",
    "SQL_OUTPUT = \"/Users/anushreechaudhuri/pCloud Drive/MIT/MIT Work/DC DOE/app_files/equity-tool/data/sql_output\"\n",
    "CARTO = \"/Users/anushreechaudhuri/pCloud Drive/MIT/MIT Work/DC DOE/app_files/equity-tool/data/carto\"\n",
    "REPORT = \"/Users/anushreechaudhuri/pCloud Drive/MIT/MIT Work/DC DOE/app_files/equity-tool/data/report\""
   ]
  },
  {
   "cell_type": "code",
   "execution_count": 185,
   "metadata": {},
   "outputs": [],
   "source": [
    "os.chdir(RAW)\n",
    "nhpd = pd.read_csv(\"nhpd.csv\")"
   ]
  },
  {
   "cell_type": "code",
   "execution_count": 190,
   "metadata": {},
   "outputs": [],
   "source": [
    "nhpd = nhpd[['Property Name','Street Address', 'City', 'State', 'Zip Code','Subsidy Status', 'Subsidy Name', 'Subsidy Subname',\n",
    "       'Start Date', 'End Date', 'Assisted Units', \n",
    "       'Owner Name', 'Owner Type', 'Manager Name', 'Manager Type',\n",
    "       '0-1 Bedroom Units', 'Two Bedroom Units', 'Three+ Bedroom Units',\n",
    "       'Target Population', 'Earliest Construction Date',\n",
    "       'Latest Construction Date', 'Rent to FMR Ratio', 'Known Total Units',\n",
    "       'Renewal Type Name', 'Inactive Status Description', 'Construction Type',\n",
    "    'Renewal Name', 'Renewal ID', 'SOA Code', 'Latitude', 'Longitude']]\n",
    "carto_nhpd = nhpd[['Property Name','Street Address', 'City', 'State', 'Zip Code','Subsidy Status', 'Subsidy Name', 'Subsidy Subname',\n",
    "       'Start Date', 'End Date', 'Assisted Units', \n",
    "       'Owner Name', 'Owner Type', 'Manager Name', 'Manager Type',\n",
    "       '0-1 Bedroom Units', 'Two Bedroom Units', 'Three+ Bedroom Units',\n",
    "       'Target Population', 'Earliest Construction Date',\n",
    "       'Latest Construction Date', 'Rent to FMR Ratio', 'Known Total Units',\n",
    "       'Renewal Type Name', 'Inactive Status Description', 'Construction Type',\n",
    "    'Renewal Name', 'Renewal ID', 'SOA Code', 'Latitude', 'Longitude']]"
   ]
  },
  {
   "cell_type": "code",
   "execution_count": 191,
   "metadata": {},
   "outputs": [],
   "source": [
    "# Rename columns in NHPD\n",
    "carto_nhpd.rename(columns={\"Property Name\": \"name\", 'Street Address': 'add', 'City': 'city', 'State': 'state', 'Zip Code': 'zip', 'Subsidy Status': 'status', 'Subsidy Name':'subsidy','Subsidy Subname':'subnm', 'Start Date': 'start', 'End Date': 'end', 'Assisted Units': 'units', 'Owner Name': 'owner', 'Owner Type': 'otype', 'Manager Name': 'mgr', 'Manager Type': 'mtype', '0-1 Bedroom Units': '0-1', 'Two Bedroom Units': '2-4', 'Three+ Bedroom Units': '5-+', 'Target Population': 'pop', 'Earliest Construction Date': 'econ', 'Latest Construction Date': 'lcon', 'Rent to FMR Ratio': 'rtfmr', 'Known Total Units': 'totun', 'Renewal Type Name': 'rtype', 'Inactive Status Description': 'inact', 'Construction Type': 'ctype', 'Renewal Name': 'rname', 'Renewal ID': 'rid', 'SOA Code': 'soa', 'Latitude': 'latitude', 'Longitude': 'longitude'}, inplace=True)"
   ]
  },
  {
   "cell_type": "code",
   "execution_count": 192,
   "metadata": {},
   "outputs": [],
   "source": [
    "def str_to_float(x):\n",
    "    try:\n",
    "        x = float(x)\n",
    "    except:\n",
    "        x = np.nan\n",
    "    return x"
   ]
  },
  {
   "cell_type": "code",
   "execution_count": 193,
   "metadata": {},
   "outputs": [],
   "source": [
    "nhpd[\"lat\"] = nhpd[\"Latitude\"].apply(str_to_float)\n",
    "nhpd[\"lon\"] = nhpd[\"Longitude\"].apply(str_to_float)\n",
    "# Drop rows with NaN\n",
    "nhpd = nhpd.dropna(subset=[\"lat\", \"lon\"])\n",
    "nhpd = gpd.GeoDataFrame(\n",
    "    nhpd, geometry=gpd.points_from_xy(nhpd.lon, nhpd.lat)\n",
    ")"
   ]
  },
  {
   "cell_type": "code",
   "execution_count": 194,
   "metadata": {},
   "outputs": [],
   "source": [
    "# Export carto_nhpd to CARTO\n",
    "os.chdir(CARTO)\n",
    "carto_nhpd.to_csv(\"carto_nhpd.csv\", index=False)"
   ]
  },
  {
   "cell_type": "code",
   "execution_count": 195,
   "metadata": {},
   "outputs": [
    {
     "name": "stderr",
     "output_type": "stream",
     "text": [
      "/Users/anushreechaudhuri/opt/miniconda3/envs/gis/lib/python3.9/site-packages/geopandas/io/file.py:362: FutureWarning: pandas.Int64Index is deprecated and will be removed from pandas in a future version. Use pandas.Index with the appropriate dtype instead.\n",
      "  pd.Int64Index,\n"
     ]
    }
   ],
   "source": [
    "# Export nhpd to REPORT as a geojson\n",
    "os.chdir(REPORT)\n",
    "nhpd.to_file(\"nhpd.geojson\", driver=\"GeoJSON\")"
   ]
  },
  {
   "cell_type": "code",
   "execution_count": null,
   "metadata": {},
   "outputs": [],
   "source": []
  }
 ],
 "metadata": {
  "kernelspec": {
   "display_name": "Python 3.9.12 ('gis')",
   "language": "python",
   "name": "python3"
  },
  "language_info": {
   "codemirror_mode": {
    "name": "ipython",
    "version": 3
   },
   "file_extension": ".py",
   "mimetype": "text/x-python",
   "name": "python",
   "nbconvert_exporter": "python",
   "pygments_lexer": "ipython3",
   "version": "3.9.12"
  },
  "orig_nbformat": 4,
  "vscode": {
   "interpreter": {
    "hash": "75c2f1f75bde7e2d9a42b89a318e4a97658aebf3915acbf323a837c048daa485"
   }
  }
 },
 "nbformat": 4,
 "nbformat_minor": 2
}
